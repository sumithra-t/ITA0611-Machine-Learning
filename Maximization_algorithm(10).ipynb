{
  "nbformat": 4,
  "nbformat_minor": 0,
  "metadata": {
    "colab": {
      "provenance": []
    },
    "kernelspec": {
      "name": "python3",
      "display_name": "Python 3"
    },
    "language_info": {
      "name": "python"
    }
  },
  "cells": [
    {
      "cell_type": "code",
      "execution_count": 2,
      "metadata": {
        "colab": {
          "base_uri": "https://localhost:8080/"
        },
        "id": "nsj-DiZg9R_6",
        "outputId": "083ca8e2-68cc-4ca2-a485-8599102c0b73"
      },
      "outputs": [
        {
          "output_type": "stream",
          "name": "stdout",
          "text": [
            "Estimated Mean 1: 4.9619691380908595\n",
            "Estimated Mean 2: 4.9619691380908515\n",
            "Estimated Sigma 1: 3.1260859056648647\n",
            "Estimated Sigma 2: 3.1260859056648633\n",
            "Estimated Pi 1: 0.017986209962091545\n",
            "Estimated Pi 2: 0.9820137900379099\n"
          ]
        }
      ],
      "source": [
        "import random\n",
        "import math\n",
        "\n",
        "data = [random.gauss(2, 1) for _ in range(50)] + [random.gauss(8, 1) for _ in range(50)]\n",
        "\n",
        "mu1, mu2 = 1.0, 9.0\n",
        "sigma1, sigma2 = 1.0, 1.0\n",
        "pi1, pi2 = 0.5, 0.5\n",
        "\n",
        "def gaussian(x, mu, sigma):\n",
        "    coeff = 1.0 / math.sqrt(2 * math.pi * sigma**2)\n",
        "    exponent = math.exp(-((x - mu)*2) / (2 * sigma*2))\n",
        "    return coeff * exponent\n",
        "\n",
        "for step in range(10):\n",
        "    # E-Step\n",
        "    responsibilities = []\n",
        "    for x in data:\n",
        "        r1 = pi1 * gaussian(x, mu1, sigma1)\n",
        "        r2 = pi2 * gaussian(x, mu2, sigma2)\n",
        "        total = r1 + r2\n",
        "        responsibilities.append((r1 / total, r2 / total))\n",
        "\n",
        "\n",
        "    N1 = sum([r[0] for r in responsibilities])\n",
        "    N2 = sum([r[1] for r in responsibilities])\n",
        "\n",
        "    mu1 = sum([r[0] * x for r, x in zip(responsibilities, data)]) / N1\n",
        "    mu2 = sum([r[1] * x for r, x in zip(responsibilities, data)]) / N2\n",
        "    sigma1 = math.sqrt(sum([r[0] * (x - mu1)**2 for r, x in zip(responsibilities, data)]) / N1)\n",
        "    sigma2 = math.sqrt(sum([r[1] * (x - mu2)**2 for r, x in zip(responsibilities, data)]) / N2)\n",
        "\n",
        "    pi1 = N1 / len(data)\n",
        "    pi2 = N2 / len(data)\n",
        "print(\"Estimated Mean 1:\", mu1)\n",
        "print(\"Estimated Mean 2:\", mu2)\n",
        "print(\"Estimated Sigma 1:\", sigma1)\n",
        "print(\"Estimated Sigma 2:\", sigma2)\n",
        "print(\"Estimated Pi 1:\", pi1)\n",
        "print(\"Estimated Pi 2:\", pi2)\n"
      ]
    }
  ]
}
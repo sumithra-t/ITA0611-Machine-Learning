{
  "nbformat": 4,
  "nbformat_minor": 0,
  "metadata": {
    "colab": {
      "provenance": []
    },
    "kernelspec": {
      "name": "python3",
      "display_name": "Python 3"
    },
    "language_info": {
      "name": "python"
    }
  },
  "cells": [
    {
      "cell_type": "code",
      "execution_count": 1,
      "metadata": {
        "colab": {
          "base_uri": "https://localhost:8080/"
        },
        "id": "2EtqdNKV6vZy",
        "outputId": "5ee66760-f109-43ba-ff54-8f47112503ce"
      },
      "outputs": [
        {
          "output_type": "stream",
          "name": "stdout",
          "text": [
            "Test point: [5, 3]\n",
            "Predicted class: B\n"
          ]
        }
      ],
      "source": [
        "from math import sqrt\n",
        "from collections import Counter\n",
        "# Sample dataset: [feature1, feature2, ..., label]\n",
        "dataset = [\n",
        "    [2, 4, 'A'],\n",
        "    [4, 2, 'A'],\n",
        "    [4, 4, 'B'],\n",
        "    [6, 2, 'B'],\n",
        "    [6, 4, 'B']\n",
        "]\n",
        "# Euclidean distance function\n",
        "def euclidean(p1, p2):\n",
        "    return sqrt(sum((a - b) ** 2 for a, b in zip(p1, p2)))\n",
        "# K-NN algorithm\n",
        "def knn(data, query, k):\n",
        "    distances = []\n",
        "    for sample in data:\n",
        "        dist = euclidean(sample[:-1], query)\n",
        "        distances.append((dist, sample[-1]))\n",
        "    distances.sort()  # sort by distance\n",
        "    neighbors = distances[:k]\n",
        "    classes = [label for _, label in neighbors]\n",
        "    most_common = Counter(classes).most_common(1)[0][0]\n",
        "    return most_common\n",
        "# Test sample\n",
        "test_point = [5, 3]\n",
        "k = 3\n",
        "# Predict\n",
        "result = knn(dataset, test_point, k)\n",
        "print(\"Test point:\", test_point)\n",
        "print(\"Predicted class:\", result)\n"
      ]
    }
  ]
}
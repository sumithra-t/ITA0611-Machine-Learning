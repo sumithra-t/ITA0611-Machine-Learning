{
  "nbformat": 4,
  "nbformat_minor": 0,
  "metadata": {
    "colab": {
      "provenance": []
    },
    "kernelspec": {
      "name": "python3",
      "display_name": "Python 3"
    },
    "language_info": {
      "name": "python"
    }
  },
  "cells": [
    {
      "cell_type": "code",
      "execution_count": null,
      "metadata": {
        "colab": {
          "base_uri": "https://localhost:8080/"
        },
        "id": "kQdw4Y8liaTF",
        "outputId": "a5917d28-3935-45e9-eb7f-1e8d0b53aafa"
      },
      "outputs": [
        {
          "output_type": "stream",
          "name": "stdout",
          "text": [
            "Decision Tree: {0: {'Sunny': {2: {'High': 'No', 'Normal': 'Yes'}}, 'Overcast': 'Yes', 'Rain': {3: {'Strong': 'No', 'Weak': 'Yes'}}}}\n",
            "Classified as: Yes\n"
          ]
        }
      ],
      "source": [
        "from math import log2\n",
        "from collections import Counter\n",
        "def entropy(data):\n",
        "    labels = [row[-1] for row in data]\n",
        "    total = len(labels)\n",
        "    return -sum((labels.count(label)/total) * log2(labels.count(label)/total) for label in set(labels))\n",
        "def info_gain(data, attr):\n",
        "    total_entropy = entropy(data)\n",
        "    values = set(row[attr] for row in data)\n",
        "    subset_entropy = 0\n",
        "    for val in values:\n",
        "        subset = [row for row in data if row[attr] == val]\n",
        "        subset_entropy += (len(subset)/len(data)) * entropy(subset)\n",
        "    return total_entropy - subset_entropy\n",
        "def id3(data, attrs):\n",
        "    labels = [row[-1] for row in data]\n",
        "    if labels.count(labels[0]) == len(labels):\n",
        "        return labels[0]\n",
        "    if not attrs:\n",
        "        return Counter(labels).most_common(1)[0][0]\n",
        "    gains = [(a, info_gain(data, a)) for a in attrs]\n",
        "    best = max(gains, key=lambda x: x[1])[0]\n",
        "    tree = {}\n",
        "    for val in set(row[best] for row in data):\n",
        "        subset = [row for row in data if row[best] == val]\n",
        "        tree[val] = id3(subset, [a for a in attrs if a != best])\n",
        "    return {best: tree}\n",
        "def classify(tree, sample):\n",
        "    if type(tree) != dict:\n",
        "        return tree\n",
        "    attr = next(iter(tree))\n",
        "    val = sample[attr]\n",
        "    return classify(tree[attr].get(val, \"Unknown\"), sample)\n",
        "# Data\n",
        "headers = [\"Outlook\", \"Temp\", \"Humidity\", \"Wind\", \"Play\"]\n",
        "data = [\n",
        "    [\"Sunny\", \"Hot\", \"High\", \"Weak\", \"No\"],\n",
        "    [\"Sunny\", \"Hot\", \"High\", \"Strong\", \"No\"],\n",
        "    [\"Overcast\", \"Hot\", \"High\", \"Weak\", \"Yes\"],\n",
        "    [\"Rain\", \"Mild\", \"High\", \"Weak\", \"Yes\"],\n",
        "    [\"Rain\", \"Cool\", \"Normal\", \"Weak\", \"Yes\"],\n",
        "    [\"Rain\", \"Cool\", \"Normal\", \"Strong\", \"No\"],\n",
        "    [\"Overcast\", \"Cool\", \"Normal\", \"Strong\", \"Yes\"],\n",
        "    [\"Sunny\", \"Mild\", \"High\", \"Weak\", \"No\"],\n",
        "    [\"Sunny\", \"Cool\", \"Normal\", \"Weak\", \"Yes\"],\n",
        "    [\"Rain\", \"Mild\", \"Normal\", \"Weak\", \"Yes\"],\n",
        "    [\"Sunny\", \"Mild\", \"Normal\", \"Strong\", \"Yes\"],\n",
        "    [\"Overcast\", \"Mild\", \"High\", \"Strong\", \"Yes\"],\n",
        "    [\"Overcast\", \"Hot\", \"Normal\", \"Weak\", \"Yes\"],\n",
        "    [\"Rain\", \"Mild\", \"High\", \"Strong\", \"No\"]\n",
        "]\n",
        "tree = id3(data, list(range(len(headers)-1)))\n",
        "sample = {0: \"Sunny\", 1: \"Mild\", 2: \"Normal\", 3: \"Strong\"}\n",
        "result = classify(tree, sample)\n",
        "print(\"Decision Tree:\", tree)\n",
        "print(\"Classified as:\", result)\n",
        "\n"
      ]
    }
  ]
}
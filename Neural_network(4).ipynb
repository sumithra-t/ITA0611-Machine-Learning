{
  "nbformat": 4,
  "nbformat_minor": 0,
  "metadata": {
    "colab": {
      "provenance": []
    },
    "kernelspec": {
      "name": "python3",
      "display_name": "Python 3"
    },
    "language_info": {
      "name": "python"
    }
  },
  "cells": [
    {
      "cell_type": "code",
      "execution_count": 2,
      "metadata": {
        "colab": {
          "base_uri": "https://localhost:8080/"
        },
        "id": "QBAMqZrr6E3n",
        "outputId": "00239b8e-cddf-4773-d5c4-d848d35a4097"
      },
      "outputs": [
        {
          "output_type": "stream",
          "name": "stdout",
          "text": [
            "Predicted Output:\n",
            "[[0.013]\n",
            " [0.989]\n",
            " [0.989]\n",
            " [0.012]]\n"
          ]
        }
      ],
      "source": [
        "import numpy as np\n",
        "# Sigmoid activation function and derivative\n",
        "def sigmoid(x):\n",
        "    return 1 / (1 + np.exp(-x))\n",
        "\n",
        "def sigmoid_deriv(x):\n",
        "    return x * (1 - x)\n",
        "\n",
        "# XOR input and output\n",
        "X = np.array([[0,0], [0,1], [1,0], [1,1]])  # Inputs\n",
        "y = np.array([[0], [1], [1], [0]])          # Expected output\n",
        "\n",
        "# Initialize weights randomly\n",
        "np.random.seed(1)\n",
        "weights1 = np.random.rand(2, 2)  # 2 inputs -> 2 hidden\n",
        "weights2 = np.random.rand(2, 1)  # 2 hidden -> 1 output\n",
        "bias1 = np.random.rand(1, 2)\n",
        "bias2 = np.random.rand(1, 1)\n",
        "for epoch in range(10000):\n",
        "    # Forward pass\n",
        "    hidden = sigmoid(np.dot(X, weights1) + bias1)\n",
        "    output = sigmoid(np.dot(hidden, weights2) + bias2)\n",
        "\n",
        "    # Backpropagation\n",
        "    error = y - output\n",
        "    d_output = error * sigmoid_deriv(output)\n",
        "\n",
        "    d_hidden = d_output.dot(weights2.T) * sigmoid_deriv(hidden)\n",
        "\n",
        "    # Update weights and biases\n",
        "    weights2 += hidden.T.dot(d_output)\n",
        "    weights1 += X.T.dot(d_hidden)\n",
        "    bias2 += np.sum(d_output, axis=0, keepdims=True)\n",
        "    bias1 += np.sum(d_hidden, axis=0, keepdims=True)\n",
        "print(\"Predicted Output:\")\n",
        "print(np.round(output, 3))\n",
        "X = [[0,0], [0,1], [1,0], [1,1]]\n",
        "y = [[0], [1], [1], [0]]\n"
      ]
    }
  ]
}
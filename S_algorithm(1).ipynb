{
  "nbformat": 4,
  "nbformat_minor": 0,
  "metadata": {
    "colab": {
      "provenance": []
    },
    "kernelspec": {
      "name": "python3",
      "display_name": "Python 3"
    },
    "language_info": {
      "name": "python"
    }
  },
  "cells": [
    {
      "cell_type": "code",
      "execution_count": 2,
      "metadata": {
        "colab": {
          "base_uri": "https://localhost:8080/"
        },
        "id": "_9b0LbEL1mGE",
        "outputId": "44ab0024-de17-4ec9-884c-b880a91418ab"
      },
      "outputs": [
        {
          "output_type": "stream",
          "name": "stdout",
          "text": [
            "Final Specific Hypothesis: ['Sunny', 'Warm', '?', '?']\n"
          ]
        }
      ],
      "source": [
        "dataset = [\n",
        "    ['Sunny', 'Warm', 'Normal', 'Strong', 'Yes'],\n",
        "    ['Sunny', 'Warm', 'High', 'Strong', 'Yes'],\n",
        "    ['Rainy', 'Cold', 'High', 'Strong', 'No'],\n",
        "    ['Sunny', 'Warm', 'High', 'Weak', 'Yes']\n",
        "]\n",
        "hypothesis = ['ϕ'] * (len(dataset[0]) - 1)\n",
        "for sample in dataset:\n",
        "    if sample[-1] == 'Yes':  # Only positive examples\n",
        "        for i in range(len(hypothesis)):\n",
        "            if hypothesis[i] == 'ϕ':\n",
        "                hypothesis[i] = sample[i]\n",
        "            elif hypothesis[i] != sample[i]:\n",
        "                hypothesis[i] = '?'\n",
        "print(\"Final Specific Hypothesis:\", hypothesis)\n"
      ]
    }
  ]
}